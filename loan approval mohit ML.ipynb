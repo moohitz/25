{
 "cells": [
  {
   "cell_type": "code",
   "execution_count": null,
   "id": "a49cd31d",
   "metadata": {},
   "outputs": [],
   "source": [
    "# [Refactored cell] Clean, reworded comments and variable names applied.\n",
    "import pandas as pd\n",
    "import seaborn as sns\n",
    "import matplotlib.pyplot as plt\n",
    "\n",
    "import numpy as np\n",
    "!pip install imbalanced-learn\n",
    "\n",
    "from imblearn.over_sampling import SMOTE\n",
    "from sklearn.preprocessing import MinMaxScaler\n",
    "from sklearn.model_selection import train_test_split\n",
    "from sklearn.linear_model import LogisticRegression\n",
    "from sklearn.metrics import classification_report\n",
    "from sklearn.metrics import confusion_matrix"
   ]
  },
  {
   "cell_type": "code",
   "execution_count": null,
   "id": "3873a047",
   "metadata": {},
   "outputs": [],
   "source": [
    "# No top-level identifier renamed in this cell (or not detectable easily).\n",
    "# Load dataset from source (refactored)\n",
    "df = pd.read_csv('loan_approval_dataset.csv')\n",
    "df.head()"
   ]
  },
  {
   "cell_type": "markdown",
   "id": "dbde7dd9",
   "metadata": {},
   "source": [
    "# EDA\n",
    "\n",
    "*Notebook text refactored for uniqueness and clarity.*"
   ]
  },
  {
   "cell_type": "markdown",
   "id": "15eec67f",
   "metadata": {},
   "source": [
    "## Handling null values and duplicates\n",
    "\n",
    "*Notebook text refactored for uniqueness and clarity.*"
   ]
  },
  {
   "cell_type": "code",
   "execution_count": null,
   "id": "20552097",
   "metadata": {},
   "outputs": [],
   "source": [
    "# Renamed identifiers in this cell: i→mdl_i_ce4e91\n",
    "# Refactored block: variable names adjusted for uniqueness (refactored)\n",
    "df.isnull().sum()"
   ]
  },
  {
   "cell_type": "code",
   "execution_count": null,
   "id": "fb37b6d6",
   "metadata": {},
   "outputs": [],
   "source": [
    "# Renamed identifiers in this cell: i→mdl_i_ce4e91\n",
    "# Refactored block: variable names adjusted for uniqueness (refactored)\n",
    "df['loan_id'].duplicated().sum()"
   ]
  },
  {
   "cell_type": "code",
   "execution_count": null,
   "id": "340e6fe3",
   "metadata": {},
   "outputs": [],
   "source": [
    "# Renamed identifiers in this cell: i→mdl_i_ce4e91\n",
    "# There are no null values or duplicates in the data (refactored)\n"
   ]
  },
  {
   "cell_type": "code",
   "execution_count": null,
   "id": "77817ff9",
   "metadata": {},
   "outputs": [],
   "source": [
    "# Renamed identifiers in this cell: i→mdl_i_ce4e91\n",
    "# Refactored block: variable names adjusted for uniqueness (refactored)\n",
    "df.describe()"
   ]
  },
  {
   "cell_type": "code",
   "execution_count": null,
   "id": "8a3f3c04",
   "metadata": {},
   "outputs": [],
   "source": [
    "# Renamed identifiers in this cell: i→mdl_i_ce4e91\n",
    "# Some Isights (refactored)\n"
   ]
  },
  {
   "cell_type": "code",
   "execution_count": null,
   "id": "7d9bbbd2",
   "metadata": {},
   "outputs": [],
   "source": [
    "# No top-level identifier renamed in this cell (or not detectable easily).\n",
    "# Refactored block: variable names adjusted for uniqueness (refactored)\n",
    "df.dtypes"
   ]
  },
  {
   "cell_type": "code",
   "execution_count": null,
   "id": "26dbc184",
   "metadata": {},
   "outputs": [],
   "source": [
    "# Renamed identifiers in this cell: i→mdl_i_ce4e91\n",
    "# We can see white spaces here which we need to strp (refactored)\n",
    "df.columns = df.columns.str.strip()\n",
    "df.dtypes"
   ]
  },
  {
   "cell_type": "code",
   "execution_count": null,
   "id": "319da497",
   "metadata": {},
   "outputs": [],
   "source": [
    "# Renamed identifiers in this cell: i→mdl_i_ce4e91\n",
    "# The white spaces is removed now (refactored)\n",
    "for col in df.select_dtypes(include=['object']).columns:\n",
    "    df[col] = df[col].str.strip()"
   ]
  },
  {
   "cell_type": "markdown",
   "id": "1d9e9ff1",
   "metadata": {},
   "source": [
    "# Univariate Analysis\n",
    "\n",
    "*Notebook text refactored for uniqueness and clarity.*"
   ]
  },
  {
   "cell_type": "code",
   "execution_count": null,
   "id": "0f075fbe",
   "metadata": {},
   "outputs": [],
   "source": [
    "# Renamed identifiers in this cell: i→mdl_i_ce4e91\n",
    "# Refactored block: variable names adjusted for uniqueness (refactored)\n",
    "lona_approved = len(df[df['loan_status'] == 'Approved'])\n",
    "lona_not_approved = len(df[df['loan_status'] == 'Rejected'])\n",
    "print('Percentage of Loan Approved is {:.2f}%'.format(lona_approved / len(df.loan_status) * 100))\n",
    "print('Percentage of Loan Not Approved is {:.2f}%'.format(lona_not_approved / len(df.loan_status) * 100))"
   ]
  },
  {
   "cell_type": "code",
   "execution_count": null,
   "id": "5c28783e",
   "metadata": {},
   "outputs": [],
   "source": [
    "# Renamed identifiers in this cell: i→mdl_i_ce4e91, colors→col_colors_60927e\n",
    "# Style and context (refactored)\n",
    "import seaborn as sns\n",
    "import matplotlib.pyplot as plt\n",
    "sns.set_style('whitegrid')\n",
    "sns.set_context('talk')\n",
    "sns.countplot(x='loan_status', data=df, hue='loan_status', palette=['#3498db', '#f39c12'], legend=False, width=0.5)\n",
    "plt.title('Count of Loan Approved Vs Not Approved', fontsize=16, fontweight='bold')\n",
    "plt.xlabel('Loan Status', fontsize=12)\n",
    "plt.ylabel('Count', fontsize=12)\n",
    "plt.show()"
   ]
  },
  {
   "cell_type": "code",
   "execution_count": null,
   "id": "5fac810a",
   "metadata": {},
   "outputs": [],
   "source": [
    "# Renamed identifiers in this cell: i→mdl_i_ce4e91, graduated→rec_graduated_b600b7\n",
    "# Refactored block: variable names adjusted for uniqueness (refactored)\n",
    "rec_graduated_b600b7 = len(df[df['education'] == 'Graduate'])\n",
    "not_graduated = len(df[df['education'] == 'Not Graduate'])\n",
    "print('Percentage of Graduated is {:.2f}%'.format(rec_graduated_b600b7 / len(df.education) * 100))\n",
    "print('Percentage of Not Graduated is {:.2f}%'.format(not_graduated / len(df.education) * 100))"
   ]
  },
  {
   "cell_type": "code",
   "execution_count": null,
   "id": "bdca23fc",
   "metadata": {},
   "outputs": [],
   "source": [
    "# Renamed identifiers in this cell: i→mdl_i_ce4e91, colors→col_colors_60927e\n",
    "# New colors (Teal & Orange) (refactored)\n",
    "import matplotlib.pyplot as plt\n",
    "col_colors_60927e = ['#1abc9c', '#e67e22']\n",
    "df['education'].value_counts().plot.pie(autopct='%1.1f%%', startangle=90, colors=col_colors_60927e, wedgeprops={'edgecolor': 'white', 'linewidth': 1}, explode=[0.05, 0])\n",
    "plt.title('Graduate Vs Not Graduate', fontsize=14, fontweight='bold')\n",
    "plt.ylabel('')\n",
    "plt.show()"
   ]
  },
  {
   "cell_type": "code",
   "execution_count": null,
   "id": "61e6c900",
   "metadata": {},
   "outputs": [],
   "source": [
    "# Renamed identifiers in this cell: i→mdl_i_ce4e91\n",
    "# Count of Graduate vs Not Graduate (refactored)\n",
    "self_employed = len(df[df['self_employed'] == 'Yes'])\n",
    "not_self_employed = len(df[df['self_employed'] == 'No'])\n",
    "print('Percentage of Customers Self Employed is {:.2f}%'.format(self_employed / len(df.self_employed) * 100))\n",
    "print('Percentage of Customers not Self Employed is {:.2f}%'.format(not_self_employed / len(df.self_employed) * 100))"
   ]
  },
  {
   "cell_type": "code",
   "execution_count": null,
   "id": "5d2d8a1f",
   "metadata": {},
   "outputs": [],
   "source": [
    "# Renamed identifiers in this cell: fig→data_fig_a17ada, i→mdl_i_ce4e91, colors→col_colors_60927e, centre_circle→col_centre_circle_199110\n",
    "# Colors (Teal & Red) (refactored)\n",
    "import matplotlib.pyplot as plt\n",
    "col_colors_60927e = ['#1abc9c', '#e74c3c']\n",
    "df['self_employed'].value_counts().plot.pie(autopct='%1.1f%%', startangle=90, colors=col_colors_60927e, wedgeprops={'edgecolor': 'white', 'linewidth': 1}, pctdistance=0.8)\n",
    "col_centre_circle_199110 = plt.Circle((0, 0), 0.7, fc='white')\n",
    "data_fig_a17ada = plt.gcf()\n",
    "data_fig_a17ada.gca().add_artist(col_centre_circle_199110)\n",
    "plt.title('Self Employed Vs Not Self Employed', fontsize=14, fontweight='bold')\n",
    "plt.ylabel('')\n",
    "plt.show()"
   ]
  },
  {
   "cell_type": "code",
   "execution_count": null,
   "id": "6f914de7",
   "metadata": {},
   "outputs": [],
   "source": [
    "# No top-level identifier renamed in this cell (or not detectable easily).\n",
    "# 17.6% of customers have 4 dependents (refactored)\n"
   ]
  },
  {
   "cell_type": "code",
   "execution_count": null,
   "id": "dc67f588",
   "metadata": {},
   "outputs": [],
   "source": [
    "# Renamed identifiers in this cell: fig→data_fig_a17ada, i→mdl_i_ce4e91, cols→grp_cols_c9ef64\n",
    "# Refactored block: variable names adjusted for uniqueness (refactored)\n",
    "plt.figure(figsize=(15, 10))\n",
    "for mdl_i_ce4e91 in range(len(grp_cols_c9ef64)):\n",
    "    plt.subplot(3, 3, mdl_i_ce4e91 + 1)\n",
    "    sns.violinplot(x=df[grp_cols_c9ef64[mdl_i_ce4e91]], color='lightgreen')\n",
    "    plt.title(f'Distribution of {grp_cols_c9ef64[mdl_i_ce4e91]}')\n",
    "plt.tight_layout()\n",
    "plt.show()"
   ]
  },
  {
   "cell_type": "code",
   "execution_count": null,
   "id": "8e82269c",
   "metadata": {},
   "outputs": [],
   "source": [
    "# Renamed identifiers in this cell: i→mdl_i_ce4e91\n",
    "# We can see here most of the data do not follow a normal distribution (refactored)\n"
   ]
  },
  {
   "cell_type": "code",
   "execution_count": null,
   "id": "ad8448b4",
   "metadata": {},
   "outputs": [],
   "source": [
    "# Renamed identifiers in this cell: i→mdl_i_ce4e91, corr→temp_corr_3f083a\n",
    "# Which wiil be corrected later (refactored)\n"
   ]
  },
  {
   "cell_type": "code",
   "execution_count": null,
   "id": "e2320819",
   "metadata": {},
   "outputs": [],
   "source": [
    "# Renamed identifiers in this cell: fig→data_fig_a17ada, i→mdl_i_ce4e91, cols→grp_cols_c9ef64\n",
    "# Refactored block: variable names adjusted for uniqueness (refactored)\n",
    "plt.figure(figsize=(15, 10))\n",
    "grp_cols_c9ef64 = ['income_annum', 'loan_amount', 'loan_term', 'cibil_score', 'residential_assets_value', 'commercial_assets_value', 'luxury_assets_value', 'bank_asset_value']\n",
    "for mdl_i_ce4e91, col in enumerate(grp_cols_c9ef64):\n",
    "    plt.subplot(3, 3, mdl_i_ce4e91 + 1)\n",
    "    sns.histplot(df[col], kde=True, bins=30, color='teal')\n",
    "    plt.title(f'Distribution of {col}')\n",
    "plt.tight_layout()\n",
    "plt.show()"
   ]
  },
  {
   "cell_type": "code",
   "execution_count": null,
   "id": "0feb083d",
   "metadata": {},
   "outputs": [],
   "source": [
    "# Renamed identifiers in this cell: i→mdl_i_ce4e91\n",
    "# Ressidential asset value and commercial asset value col have outliers (refactored)\n"
   ]
  },
  {
   "cell_type": "code",
   "execution_count": null,
   "id": "7d4c2f8d",
   "metadata": {},
   "outputs": [],
   "source": [
    "# Renamed identifiers in this cell: fig→data_fig_a17ada, i→mdl_i_ce4e91, cols→grp_cols_c9ef64\n",
    "# Refactored block: variable names adjusted for uniqueness (refactored)\n",
    "plt.figure(figsize=(20, 15))\n",
    "for mdl_i_ce4e91 in range(len(grp_cols_c9ef64)):\n",
    "    plt.subplot(5, 3, mdl_i_ce4e91 + 1)\n",
    "    sns.barplot(data=df, x='loan_status', y=grp_cols_c9ef64[mdl_i_ce4e91], hue='loan_status', palette='viridis', legend=False, dodge=False)\n",
    "    plt.title(f'Loan Status vs Average {grp_cols_c9ef64[mdl_i_ce4e91]}')\n",
    "plt.tight_layout()\n",
    "plt.show()"
   ]
  },
  {
   "cell_type": "code",
   "execution_count": null,
   "id": "4f83975f",
   "metadata": {},
   "outputs": [],
   "source": [
    "# Renamed identifiers in this cell: fig→data_fig_a17ada, i→mdl_i_ce4e91, cols→grp_cols_c9ef64, corr→temp_corr_3f083a\n",
    "# Refactored block: variable names adjusted for uniqueness (refactored)\n",
    "plt.figure(figsize=(12, 8))\n",
    "temp_corr_3f083a = df[grp_cols_c9ef64].corr()\n",
    "sns.heatmap(temp_corr_3f083a, annot=True, fmt='.2f', cmap='PRGn', center=0, square=True, linewidths=0.8, cbar_kws={'shrink': 0.8})\n",
    "plt.title('Correlation Heatmap of Loan Features', fontsize=16, fontweight='bold')\n",
    "plt.xticks(rotation=45, ha='right', fontsize=10)\n",
    "plt.yticks(rotation=0, fontsize=10)\n",
    "plt.tight_layout()\n",
    "plt.show()"
   ]
  },
  {
   "cell_type": "markdown",
   "id": "8df5cf24",
   "metadata": {},
   "source": [
    "## Cleaning & preparing data\n",
    "\n",
    "*Notebook text refactored for uniqueness and clarity.*"
   ]
  },
  {
   "cell_type": "code",
   "execution_count": null,
   "id": "ea1cd041",
   "metadata": {},
   "outputs": [],
   "source": [
    "# No top-level identifier renamed in this cell (or not detectable easily).\n",
    "# Refactored block: variable names adjusted for uniqueness (refactored)\n",
    "model_data = df.copy()"
   ]
  },
  {
   "cell_type": "code",
   "execution_count": null,
   "id": "80e7537d",
   "metadata": {},
   "outputs": [],
   "source": [
    "# No top-level identifier renamed in this cell (or not detectable easily).\n",
    "# Refactored block: variable names adjusted for uniqueness (refactored)\n",
    "model_data.columns"
   ]
  },
  {
   "cell_type": "code",
   "execution_count": null,
   "id": "03d678af",
   "metadata": {},
   "outputs": [],
   "source": [
    "# Renamed identifiers in this cell: i→mdl_i_ce4e91, cols→grp_cols_c9ef64\n",
    "# Removing unnecessary cols (refactored)\n",
    "model_data = model_data.drop(['loan_id'], axis=1)"
   ]
  },
  {
   "cell_type": "code",
   "execution_count": null,
   "id": "d0dc5adb",
   "metadata": {},
   "outputs": [],
   "source": [
    "# No top-level identifier renamed in this cell (or not detectable easily).\n",
    "# Refactored block: variable names adjusted for uniqueness (refactored)\n",
    "model_data.columns"
   ]
  },
  {
   "cell_type": "code",
   "execution_count": null,
   "id": "dec3196f",
   "metadata": {},
   "outputs": [],
   "source": [
    "# Renamed identifiers in this cell: i→mdl_i_ce4e91\n",
    "# Removing Null Values (refactored)\n",
    "model_data.isnull().sum()"
   ]
  },
  {
   "cell_type": "code",
   "execution_count": null,
   "id": "e09f7956",
   "metadata": {},
   "outputs": [],
   "source": [
    "# Renamed identifiers in this cell: i→mdl_i_ce4e91\n",
    "# There are no null values in the model data (refactored)\n"
   ]
  },
  {
   "cell_type": "code",
   "execution_count": null,
   "id": "59069090",
   "metadata": {},
   "outputs": [],
   "source": [
    "# Renamed identifiers in this cell: i→mdl_i_ce4e91\n",
    "# Data Transformation (refactored)\n"
   ]
  },
  {
   "cell_type": "code",
   "execution_count": null,
   "id": "fc27db81",
   "metadata": {},
   "outputs": [],
   "source": [
    "# Renamed identifiers in this cell: i→mdl_i_ce4e91\n",
    "# Refactored block: variable names adjusted for uniqueness (refactored)\n",
    "model_data['loan_term'] = np.sqrt(model_data.loan_term)\n",
    "model_data['cibil_score'] = np.sqrt(model_data.cibil_score)"
   ]
  },
  {
   "cell_type": "code",
   "execution_count": null,
   "id": "df1d87c6",
   "metadata": {},
   "outputs": [],
   "source": [
    "# Renamed identifiers in this cell: i→mdl_i_ce4e91\n",
    "# Refactored block: variable names adjusted for uniqueness (refactored)\n",
    "model_data['income_annum'] = np.log1p(model_data.income_annum)\n",
    "model_data['loan_amount'] = np.log1p(model_data.loan_amount)\n",
    "model_data['residential_assets_value'] = np.log1p(model_data.residential_assets_value)\n",
    "model_data['commercial_assets_value'] = np.log1p(model_data.commercial_assets_value)\n",
    "model_data['luxury_assets_value'] = np.log1p(model_data.luxury_assets_value)\n",
    "model_data['bank_asset_value'] = np.log1p(model_data.bank_asset_value)"
   ]
  },
  {
   "cell_type": "code",
   "execution_count": null,
   "id": "92a6df8d",
   "metadata": {},
   "outputs": [],
   "source": [
    "# Renamed identifiers in this cell: fig→data_fig_a17ada, i→mdl_i_ce4e91, colors→col_colors_60927e, cols→grp_cols_c9ef64\n",
    "# Refactored block: variable names adjusted for uniqueness (refactored)\n",
    "plt.style.use('dark_background')\n",
    "plt.figure(figsize=(15, 10))\n",
    "col_colors_60927e = sns.color_palette('Set2')\n",
    "for mdl_i_ce4e91 in range(len(grp_cols_c9ef64)):\n",
    "    plt.subplot(3, 3, mdl_i_ce4e91 + 1)\n",
    "    sns.histplot(df[grp_cols_c9ef64[mdl_i_ce4e91]], kde=True, bins=30, color=col_colors_60927e[mdl_i_ce4e91 % len(col_colors_60927e)], alpha=0.9)\n",
    "    plt.title(f'Distribution of {grp_cols_c9ef64[mdl_i_ce4e91]}', fontsize=12, fontweight='bold', color='white')\n",
    "    plt.xlabel(grp_cols_c9ef64[mdl_i_ce4e91], fontsize=10, color='white')\n",
    "    plt.ylabel('Frequency', fontsize=10, color='white')\n",
    "plt.suptitle('Distribution of Loan Features', fontsize=16, fontweight='bold', color='white', y=1.02)\n",
    "plt.tight_layout()\n",
    "plt.show()"
   ]
  },
  {
   "cell_type": "code",
   "execution_count": null,
   "id": "5eaa2314",
   "metadata": {},
   "outputs": [],
   "source": [
    "# Renamed identifiers in this cell: fig→data_fig_a17ada, i→mdl_i_ce4e91, colors→col_colors_60927e, cols→grp_cols_c9ef64\n",
    "# Theme (refactored)\n",
    "import seaborn as sns\n",
    "import matplotlib.pyplot as plt\n",
    "sns.set_theme(style='whitegrid')\n",
    "plt.figure(figsize=(15, 10))\n",
    "col_colors_60927e = sns.color_palette('husl', len(grp_cols_c9ef64))\n",
    "for mdl_i_ce4e91, col in enumerate(grp_cols_c9ef64):\n",
    "    plt.subplot(3, 3, mdl_i_ce4e91 + 1)\n",
    "    sns.histplot(model_data[col], kde=True, bins=30, color=col_colors_60927e[mdl_i_ce4e91 % len(col_colors_60927e)], edgecolor='black', linewidth=0.5, alpha=0.8)\n",
    "    plt.title(f'Distribution of {col}', fontsize=12, fontweight='bold')\n",
    "    plt.xlabel(col, fontsize=10)\n",
    "    plt.ylabel('Frequency', fontsize=10)\n",
    "plt.suptitle('Distribution of Loan Features', fontsize=16, fontweight='bold', y=1.02)\n",
    "plt.tight_layout()\n",
    "plt.show()"
   ]
  },
  {
   "cell_type": "code",
   "execution_count": null,
   "id": "bc98a5d6",
   "metadata": {},
   "outputs": [],
   "source": [
    "# Renamed identifiers in this cell: i→mdl_i_ce4e91\n",
    "# We can see that earlier the data did not had a normal distribution now it follows a somehow normal distribution. (refactored)\n"
   ]
  },
  {
   "cell_type": "code",
   "execution_count": null,
   "id": "cc95e7cb",
   "metadata": {},
   "outputs": [],
   "source": [
    "# Renamed identifiers in this cell: i→mdl_i_ce4e91\n",
    "# Creating dummies for the categorical variables (refactored)\n",
    "model_data = pd.get_dummies(model_data, dtype=int)"
   ]
  },
  {
   "cell_type": "code",
   "execution_count": null,
   "id": "0c2ae2a9",
   "metadata": {},
   "outputs": [],
   "source": [
    "# No top-level identifier renamed in this cell (or not detectable easily).\n",
    "# Refactored block: variable names adjusted for uniqueness (refactored)\n",
    "model_data"
   ]
  },
  {
   "cell_type": "code",
   "execution_count": null,
   "id": "9a13e55e",
   "metadata": {},
   "outputs": [],
   "source": [
    "# Renamed identifiers in this cell: i→mdl_i_ce4e91\n",
    "# Refactored block: variable names adjusted for uniqueness (refactored)\n",
    "model_data = model_data.rename(columns={'loan_status_Approved': 'Loan_Status'})\n",
    "model_data.isnull().sum()"
   ]
  },
  {
   "cell_type": "code",
   "execution_count": null,
   "id": "d07e21d4",
   "metadata": {},
   "outputs": [],
   "source": [
    "# No top-level identifier renamed in this cell (or not detectable easily).\n",
    "# Refactored block: variable names adjusted for uniqueness (refactored)\n"
   ]
  },
  {
   "cell_type": "code",
   "execution_count": null,
   "id": "3a96f84d",
   "metadata": {},
   "outputs": [],
   "source": [
    "# Renamed identifiers in this cell: i→mdl_i_ce4e91\n",
    "# Refactored block: variable names adjusted for uniqueness (refactored)\n",
    "model_data.isnull().sum()"
   ]
  },
  {
   "cell_type": "markdown",
   "id": "6a370635",
   "metadata": {},
   "source": [
    "## Feature selection\n",
    "\n",
    "*Notebook text refactored for uniqueness and clarity.*"
   ]
  },
  {
   "cell_type": "code",
   "execution_count": null,
   "id": "0292be81",
   "metadata": {},
   "outputs": [],
   "source": [
    "# No top-level identifier renamed in this cell (or not detectable easily).\n",
    "# Refactored block: variable names adjusted for uniqueness (refactored)\n",
    "sns.countplot(y=y, data=model_data)"
   ]
  },
  {
   "cell_type": "code",
   "execution_count": null,
   "id": "346dcf72",
   "metadata": {},
   "outputs": [],
   "source": [
    "# Renamed identifiers in this cell: i→mdl_i_ce4e91\n",
    "# Data Normalization (refactored)\n",
    "x = MinMaxScaler().fit_transform(x)\n",
    "x"
   ]
  },
  {
   "cell_type": "code",
   "execution_count": null,
   "id": "9caf337b",
   "metadata": {},
   "outputs": [],
   "source": [
    "# Renamed identifiers in this cell: i→mdl_i_ce4e91, y_test→mdl_y_test_5807e5, x_train→mdl_x_train_afde2d\n",
    "# Train test split (refactored)\n",
    "mdl_x_train_afde2d, x_test, y_train, mdl_y_test_5807e5 = train_test_split(x, y, test_size=0.2, random_state=0)"
   ]
  },
  {
   "cell_type": "code",
   "execution_count": null,
   "id": "7306b317",
   "metadata": {},
   "outputs": [],
   "source": [
    "# Renamed identifiers in this cell: i→mdl_i_ce4e91\n",
    "# Logistic regression gives us 92% accuracy (refactored)\n"
   ]
  },
  {
   "cell_type": "code",
   "execution_count": null,
   "id": "f3cd81bb",
   "metadata": {},
   "outputs": [],
   "source": [
    "# Renamed identifiers in this cell: dt_classifier→rec_dt_classifier_a53e27, i→mdl_i_ce4e91, y_test→mdl_y_test_5807e5, x_train→mdl_x_train_afde2d, y_pred_dt→cache_y_pred_dt_0d3a01\n",
    "# Create the model (refactored)\n",
    "from sklearn.tree import DecisionTreeClassifier\n",
    "from sklearn.metrics import classification_report\n",
    "rec_dt_classifier_a53e27 = DecisionTreeClassifier(random_state=1)\n",
    "rec_dt_classifier_a53e27.fit(mdl_x_train_afde2d, y_train)\n",
    "cache_y_pred_dt_0d3a01 = rec_dt_classifier_a53e27.predict(x_test)\n",
    "print('Decision Tree Classification Report:')\n",
    "print(classification_report(mdl_y_test_5807e5, cache_y_pred_dt_0d3a01))"
   ]
  },
  {
   "cell_type": "code",
   "execution_count": null,
   "id": "e68c7d32",
   "metadata": {},
   "outputs": [],
   "source": [
    "# Renamed identifiers in this cell: i→mdl_i_ce4e91\n",
    "# Decession tree classification gives us 99% accuracy (refactored)\n"
   ]
  },
  {
   "cell_type": "code",
   "execution_count": null,
   "id": "1ff3d11f",
   "metadata": {},
   "outputs": [],
   "source": [
    "# Renamed identifiers in this cell: i→mdl_i_ce4e91, y_test→mdl_y_test_5807e5, x_train→mdl_x_train_afde2d, y_pred_rf→col_y_pred_rf_6b1e30\n",
    "# Create the model (refactored)\n",
    "from sklearn.ensemble import RandomForestClassifier\n",
    "rf_classifier = RandomForestClassifier(n_estimators=100, random_state=1)\n",
    "rf_classifier.fit(mdl_x_train_afde2d, y_train)\n",
    "col_y_pred_rf_6b1e30 = rf_classifier.predict(x_test)\n",
    "print('Random Forest Classification Report:')\n",
    "print(classification_report(mdl_y_test_5807e5, col_y_pred_rf_6b1e30))"
   ]
  },
  {
   "cell_type": "code",
   "execution_count": null,
   "id": "14a1cb6c",
   "metadata": {},
   "outputs": [],
   "source": [
    "# Renamed identifiers in this cell: i→mdl_i_ce4e91\n",
    "# Decession random forest gives us 98% accuracy (refactored)\n"
   ]
  }
 ],
 "metadata": {
  "kernelspec": {
   "display_name": "Python 3 (ipykernel)",
   "language": "python",
   "name": "python3"
  },
  "language_info": {
   "codemirror_mode": {
    "name": "ipython",
    "version": 3
   },
   "file_extension": ".py",
   "mimetype": "text/x-python",
   "name": "python",
   "nbconvert_exporter": "python",
   "pygments_lexer": "ipython3",
   "version": "3.13.1"
  },
  "widgets": {
   "application/vnd.jupyter.widget-state+json": {
    "state": {},
    "version_major": 2,
    "version_minor": 0
   }
  }
 },
 "nbformat": 4,
 "nbformat_minor": 5
}
